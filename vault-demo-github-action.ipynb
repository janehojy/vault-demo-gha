{
 "cells": [
  {
   "cell_type": "markdown",
   "metadata": {},
   "source": [
    "# HCP Vault Dedicated Demo for GitHub Actions\n",
    "\n",
    "## Setup of the Demo\n",
    "\n",
    "This setup is tested on MacOS. The components used in this demo are:\n",
    "- HCP Vault Dedicated cluster running\n",
    "- You have the Vault CLI installed\n",
    "\n",
    "This assumes your Vault cluster is on the public HVN and you have set your VAULT_ADDR and VAULT_TOKEN variables.\n",
    "\n",
    "## Requirements to Run This Demo\n",
    "You will need Visual Studio Code to be installed with the Jupyter plugin.  To run this notebook in VS Code, chose the Jupyter kernel and then Bash.\n",
    "- To run the current cell, use Ctrl + Enter.\n",
    "- To run the current cell and advance to the next, use Shift+Enter.\n"
   ]
  },
  {
   "cell_type": "markdown",
   "metadata": {},
   "source": [
    "# Setup Vault Environment Variables"
   ]
  },
  {
   "cell_type": "code",
   "execution_count": null,
   "metadata": {
    "vscode": {
     "languageId": "shellscript"
    }
   },
   "outputs": [],
   "source": [
    "# Retrieve the Vault Public Cluster URL from portal.cloud.hashicorp.com\n",
    "export VAULT_ADDR=\"\"\n",
    "export VAULT_NAMESPACE=\"admin\"\n",
    "\n",
    "# Retrieve the Vault admin token from portal.cloud.hashicorp.com\n",
    "# The token expires after 6 hours. You can refresh it before expiry\n",
    "export VAULT_TOKEN=\"\""
   ]
  },
  {
   "cell_type": "markdown",
   "metadata": {},
   "source": [
    "# Configure Vault"
   ]
  },
  {
   "cell_type": "code",
   "execution_count": null,
   "metadata": {
    "vscode": {
     "languageId": "shellscript"
    }
   },
   "outputs": [],
   "source": [
    "# Configure a JWT auth mount for the GitHub Actions OIDC provider\n",
    "# A single JWT auth mount resource may service multiple underlying roles and must only be configured once for a Vault namespace.\n",
    "\n",
    "vault auth enable \\\n",
    "  -path=jwt-github-actions \\\n",
    "  -description=\"JWT Auth Backend for GitHub Actions\" \\\n",
    "  -default-lease-ttl=30 \\\n",
    "  jwt\n",
    "\n",
    "# These parameters allow the Vault server to verify the received JSON Web Tokens (JWT) during the authentication process.\n",
    "vault write auth/jwt-github-actions/config \\\n",
    "  bound_issuer=\"https://token.actions.githubusercontent.com\" \\\n",
    "  oidc_discovery_url=\"https://token.actions.githubusercontent.com\"\n",
    "\n",
    "# Configure a Vault policy for a GitHub Actions workflow\n",
    "# This policy grants read access to all secrets under the path `kv/app1`\n",
    "echo 'path \"kv/data/app1\" {\n",
    "  capabilities = [\"read\"]\n",
    "}\n",
    "' | vault policy write app1 -\n",
    "\n",
    "# Configure a JWT auth role for a GitHub Actions workflow\n",
    "# Create a Vault JWT auth role for each unique CI workflow\n",
    "# Ensure that the bound_claims parameter is defined for your security requirements, and has at least one condition. Optionally, you can also set the bound_subject as well as the bound_audiences parameter.\n",
    "# This auth role may include repository and workflow information like:\n",
    "## Specific audience, subject\n",
    "## Repository, branch\n",
    "## Actor, workflow name\n",
    "## Repository visibility setting, runner environment, and repository owner.\n",
    "vault write auth/jwt-github-actions/role/app1 -<<EOF\n",
    "{\n",
    "  \"role_type\": \"jwt\",\n",
    "  \"bound_audiences\": [\"https://github.com/janehojy\"],\n",
    "  \"bound_claims_type\": \"string\",\n",
    "  \"user_claim\": \"sub\",\n",
    "  \"bound_claims\": {\n",
    "    \"repository\": \"janehojy/vault-demo-gha\"\n",
    "  },\n",
    "  \"policies\": [\"app1\"],\n",
    "  \"ttl\": \"10m\"\n",
    "}\n",
    "EOF"
   ]
  },
  {
   "cell_type": "code",
   "execution_count": null,
   "metadata": {
    "vscode": {
     "languageId": "shellscript"
    }
   },
   "outputs": [],
   "source": [
    "vault kv put kv/app1 password=P@55w0rD!"
   ]
  },
  {
   "cell_type": "markdown",
   "metadata": {},
   "source": [
    "# Cleanup"
   ]
  },
  {
   "cell_type": "code",
   "execution_count": null,
   "metadata": {
    "vscode": {
     "languageId": "shellscript"
    }
   },
   "outputs": [],
   "source": [
    "vault kv destroy -versions=1 kv/app1\n",
    "\n",
    "vault kv metadata delete kv/app1\n",
    "\n",
    "vault kv get kv/app1"
   ]
  },
  {
   "cell_type": "markdown",
   "metadata": {},
   "source": [
    "# "
   ]
  }
 ],
 "metadata": {
  "kernelspec": {
   "display_name": "Bash",
   "language": "bash",
   "name": "bash"
  },
  "language_info": {
   "codemirror_mode": "shell",
   "file_extension": ".sh",
   "mimetype": "text/x-sh",
   "name": "bash"
  }
 },
 "nbformat": 4,
 "nbformat_minor": 2
}
